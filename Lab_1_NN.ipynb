{
  "nbformat": 4,
  "nbformat_minor": 0,
  "metadata": {
    "colab": {
      "name": "Lab_1_NN.ipynb",
      "provenance": [],
      "collapsed_sections": [],
      "authorship_tag": "ABX9TyNd465RmGRxfHc3fEZWd6gL",
      "include_colab_link": true
    },
    "kernelspec": {
      "name": "python3",
      "display_name": "Python 3"
    }
  },
  "cells": [
    {
      "cell_type": "markdown",
      "metadata": {
        "id": "view-in-github",
        "colab_type": "text"
      },
      "source": [
        "<a href=\"https://colab.research.google.com/github/Roger-Mapoga/CES117V/blob/master/Lab_1_NN.ipynb\" target=\"_parent\"><img src=\"https://colab.research.google.com/assets/colab-badge.svg\" alt=\"Open In Colab\"/></a>"
      ]
    },
    {
      "cell_type": "code",
      "metadata": {
        "colab": {
          "base_uri": "https://localhost:8080/"
        },
        "id": "N0iuCXn0RV-j",
        "outputId": "d7f64754-2276-4f57-857b-4c03bbe75ad9"
      },
      "source": [
        "import tensorflow as tf\n",
        "print(tf.__version__)"
      ],
      "execution_count": 1,
      "outputs": [
        {
          "output_type": "stream",
          "text": [
            "2.4.0\n"
          ],
          "name": "stdout"
        }
      ]
    },
    {
      "cell_type": "markdown",
      "metadata": {
        "id": "VWtPMnvMTVYc"
      },
      "source": [
        "### Basic operations with TensorFlow"
      ]
    },
    {
      "cell_type": "code",
      "metadata": {
        "colab": {
          "base_uri": "https://localhost:8080/"
        },
        "id": "OICmipL6TW-J",
        "outputId": "9ffa63c7-4ada-4972-ce67-4cc8c6788c5f"
      },
      "source": [
        "a = 4 + 2j #complex number\n",
        "b = 6 + 7j\n",
        "\n",
        "c = a + b\n",
        "d = tf.square(c)\n",
        "print(a,b,c,d)\n",
        "\n",
        "\n",
        "\n",
        "print(a-b)\n",
        "print(a*b)"
      ],
      "execution_count": 2,
      "outputs": [
        {
          "output_type": "stream",
          "text": [
            "(4+2j) (6+7j) (10+9j) tf.Tensor((19+180j), shape=(), dtype=complex128)\n",
            "(-2-5j)\n",
            "(10+40j)\n"
          ],
          "name": "stdout"
        }
      ]
    },
    {
      "cell_type": "markdown",
      "metadata": {
        "id": "VSbtbXFTTnZu"
      },
      "source": [
        "### Tensors\n",
        "As we Know, tensors are array of numbers arranged in space. We can call a vector(1-D array) as a 1st order tensor and matrix(2-D Array) as a 2nd order tensor and so on. Below, find out how to create a [constant](https://www.tensorflow.org/api_docs/python/tf/constant) tensor:"
      ]
    },
    {
      "cell_type": "code",
      "metadata": {
        "colab": {
          "base_uri": "https://localhost:8080/"
        },
        "id": "5XVSx7hFTopD",
        "outputId": "78fad80f-65c9-42ff-a4c0-22965bd638bc"
      },
      "source": [
        "c = tf.constant([[1.4, 2.0, 2], [8, 2, 5]])\n",
        "print(c)"
      ],
      "execution_count": 3,
      "outputs": [
        {
          "output_type": "stream",
          "text": [
            "tf.Tensor(\n",
            "[[1.4 2.  2. ]\n",
            " [8.  2.  5. ]], shape=(2, 3), dtype=float32)\n"
          ],
          "name": "stdout"
        }
      ]
    },
    {
      "cell_type": "markdown",
      "metadata": {
        "id": "oc_3SxvfUdNs"
      },
      "source": [
        "You can get its value as a Numpy array by calling `.numpy()`:"
      ]
    },
    {
      "cell_type": "code",
      "metadata": {
        "colab": {
          "base_uri": "https://localhost:8080/"
        },
        "id": "zAZ8g5nzUd_l",
        "outputId": "1f37e73a-5dec-49e5-e042-58b99a26c1e2"
      },
      "source": [
        "import numpy as np\n",
        "y = np.array([[1, 2, 2], [8, 2, 5]])\n",
        "print(y)\n",
        "# We can also convert a tensor into a numpy array by using .numpy()\n",
        "c.numpy()"
      ],
      "execution_count": 4,
      "outputs": [
        {
          "output_type": "stream",
          "text": [
            "[[1 2 2]\n",
            " [8 2 5]]\n"
          ],
          "name": "stdout"
        },
        {
          "output_type": "execute_result",
          "data": {
            "text/plain": [
              "array([[1.4, 2. , 2. ],\n",
              "       [8. , 2. , 5. ]], dtype=float32)"
            ]
          },
          "metadata": {
            "tags": []
          },
          "execution_count": 4
        }
      ]
    },
    {
      "cell_type": "code",
      "metadata": {
        "colab": {
          "base_uri": "https://localhost:8080/"
        },
        "id": "23N_BhQkUqel",
        "outputId": "96ffd428-de78-4eb1-cbd1-e29852bcaeb5"
      },
      "source": [
        "print('Tensor Data Type', c.dtype)\n",
        "print('Tensor Shape', c.shape)\n",
        "# You can notice the similarity with numpy \n",
        "# You can also call the different default tensors as you would do for numpy"
      ],
      "execution_count": 5,
      "outputs": [
        {
          "output_type": "stream",
          "text": [
            "Tensor Data Type <dtype: 'float32'>\n",
            "Tensor Shape (2, 3)\n"
          ],
          "name": "stdout"
        }
      ]
    },
    {
      "cell_type": "code",
      "metadata": {
        "colab": {
          "base_uri": "https://localhost:8080/"
        },
        "id": "5TCwWEb5U24d",
        "outputId": "0152b6c8-5d8d-434f-99ee-8545c4341402"
      },
      "source": [
        "random_variable = tf.ones(shape=(3,3))\n",
        "#random variable\n",
        "tf_variable = tf.Variable(random_variable)\n",
        "print(tf_variable)\n",
        "\n",
        "#you can also update the values of your variable.\n",
        "tf_variable.assign(tf.zeros(shape = (3,3)))\n",
        "print(tf_variable)"
      ],
      "execution_count": 6,
      "outputs": [
        {
          "output_type": "stream",
          "text": [
            "<tf.Variable 'Variable:0' shape=(3, 3) dtype=float32, numpy=\n",
            "array([[1., 1., 1.],\n",
            "       [1., 1., 1.],\n",
            "       [1., 1., 1.]], dtype=float32)>\n",
            "<tf.Variable 'Variable:0' shape=(3, 3) dtype=float32, numpy=\n",
            "array([[0., 0., 0.],\n",
            "       [0., 0., 0.],\n",
            "       [0., 0., 0.]], dtype=float32)>\n"
          ],
          "name": "stdout"
        }
      ]
    },
    {
      "cell_type": "code",
      "metadata": {
        "colab": {
          "base_uri": "https://localhost:8080/"
        },
        "id": "47PQV_qXU82W",
        "outputId": "3cf5327d-1125-4930-cf5c-793fff0d89fb"
      },
      "source": [
        "# computing derivative for the function 3x^2 at x = 3\n",
        "\n",
        "x = tf.constant(3.0) #gradient at\n",
        "with tf.GradientTape() as g:\n",
        "  g.watch(x) #record the operations\n",
        "  y = 3*x * x\n",
        "dy_dx = g.gradient(y, x) \n",
        "print(dy_dx)\n",
        "\n",
        "\n",
        "# you can also use nested GradientTape() for the second derivative\n",
        "#computing second derivative for the function 4x^2 at x = 4.0\n",
        "\n",
        "x = tf.constant(4.0)\n",
        "with tf.GradientTape() as gt:\n",
        "  gt.watch(x)\n",
        "  with tf.GradientTape() as g:\n",
        "    g.watch(x)  \n",
        "    y = 4*x*x\n",
        "  dy_dx = g.gradient(y, x)\n",
        "d2y_dx2 = gt.gradient(dy_dx,x)\n",
        "print(d2y_dx2)\n",
        "\n",
        "\n",
        "\n"
      ],
      "execution_count": 7,
      "outputs": [
        {
          "output_type": "stream",
          "text": [
            "tf.Tensor(18.0, shape=(), dtype=float32)\n",
            "tf.Tensor(8.0, shape=(), dtype=float32)\n"
          ],
          "name": "stdout"
        }
      ]
    },
    {
      "cell_type": "markdown",
      "metadata": {
        "id": "ZRgcAxZaVhwn"
      },
      "source": [
        "#### 1. Create a constant tensor array 'x' like [2,3,4] and find element wise e^x.  Refer to the website [here](https://www.tensorflow.org/api_docs/python/tf/math/exp)."
      ]
    },
    {
      "cell_type": "code",
      "metadata": {
        "colab": {
          "base_uri": "https://localhost:8080/"
        },
        "id": "EXAiEu2CVj5_",
        "outputId": "bb8efec5-0423-4718-f6f5-53b63dfba249"
      },
      "source": [
        "x = tf.constant([2.0,3.0,4.0])\n",
        "x = tf.math.exp(x)\n",
        "x"
      ],
      "execution_count": 10,
      "outputs": [
        {
          "output_type": "execute_result",
          "data": {
            "text/plain": [
              "<tf.Tensor: shape=(3,), dtype=float32, numpy=array([ 7.389056, 20.085537, 54.59815 ], dtype=float32)>"
            ]
          },
          "metadata": {
            "tags": []
          },
          "execution_count": 10
        }
      ]
    },
    {
      "cell_type": "markdown",
      "metadata": {
        "id": "b9-xmYI5WNRs"
      },
      "source": [
        "#### 2. Declare a variable with a 3*2 shaped floating elements array with elements picked from a random normal distributions.   "
      ]
    },
    {
      "cell_type": "code",
      "metadata": {
        "colab": {
          "base_uri": "https://localhost:8080/"
        },
        "id": "LJX2K5KqWMSs",
        "outputId": "78e5bca4-ffb2-4d09-e449-8421b604feaa"
      },
      "source": [
        "x = tf.Variable(tf.random.normal(shape=(3,2)))\n",
        "x"
      ],
      "execution_count": 11,
      "outputs": [
        {
          "output_type": "execute_result",
          "data": {
            "text/plain": [
              "<tf.Variable 'Variable:0' shape=(3, 2) dtype=float32, numpy=\n",
              "array([[-0.08080089, -0.7743149 ],\n",
              "       [ 0.27444255,  0.02577921],\n",
              "       [ 1.4908392 ,  2.083642  ]], dtype=float32)>"
            ]
          },
          "metadata": {
            "tags": []
          },
          "execution_count": 11
        }
      ]
    },
    {
      "cell_type": "markdown",
      "metadata": {
        "id": "gAmtvSMtW-2c"
      },
      "source": [
        "#### 3. Subtract 1 from every element of the above matrix."
      ]
    },
    {
      "cell_type": "code",
      "metadata": {
        "colab": {
          "base_uri": "https://localhost:8080/"
        },
        "id": "aF7mk-VgW9o2",
        "outputId": "cb685cb4-7432-434e-e894-f97fe35989f5"
      },
      "source": [
        "x.assign_sub(tf.ones(shape=(3,2)))"
      ],
      "execution_count": 12,
      "outputs": [
        {
          "output_type": "execute_result",
          "data": {
            "text/plain": [
              "<tf.Variable 'UnreadVariable' shape=(3, 2) dtype=float32, numpy=\n",
              "array([[-1.0808009 , -1.7743149 ],\n",
              "       [-0.72555745, -0.9742208 ],\n",
              "       [ 0.49083924,  1.083642  ]], dtype=float32)>"
            ]
          },
          "metadata": {
            "tags": []
          },
          "execution_count": 12
        }
      ]
    },
    {
      "cell_type": "markdown",
      "metadata": {
        "id": "0_7rA4A3Xvgw"
      },
      "source": [
        "#### 4. Calculate the third derivative of the function 4x^3 + x^2 + 1 at x = 1"
      ]
    },
    {
      "cell_type": "code",
      "metadata": {
        "colab": {
          "base_uri": "https://localhost:8080/"
        },
        "id": "01wuNwhaXwfA",
        "outputId": "d747a979-402e-4acb-8b3d-4e3561faa77f"
      },
      "source": [
        "x = tf.constant(1.0)\n",
        "with tf.GradientTape() as g:\n",
        "  g.watch(x)\n",
        "  with tf.GradientTape() as g1:\n",
        "    g1.watch(x)\n",
        "    with tf.GradientTape() as g2:\n",
        "      g2.watch(x)\n",
        "      y = 4*x**3 + x**2 + 1\n",
        "      dy_dx = g.gradient(y,x)\n",
        "      dy_dx2 = g1.gradient(dy_dx,x)\n",
        "      dy_dx3 = g2.gradient(dy_dx2,x)\n",
        "dy_dx3\n",
        "\n"
      ],
      "execution_count": 21,
      "outputs": [
        {
          "output_type": "execute_result",
          "data": {
            "text/plain": [
              "<tf.Tensor: shape=(), dtype=float32, numpy=24.0>"
            ]
          },
          "metadata": {
            "tags": []
          },
          "execution_count": 21
        }
      ]
    },
    {
      "cell_type": "markdown",
      "metadata": {
        "id": "zZhCd4s1fB7w"
      },
      "source": [
        "#### 5. Calculate dot product of matrices [[1,2,3],[4,5,6],[7,8,9]] and [[1],[2],[3]] using tensorflow functions. Also, find the element wise multiplication of the two."
      ]
    },
    {
      "cell_type": "code",
      "metadata": {
        "colab": {
          "base_uri": "https://localhost:8080/"
        },
        "id": "N3DDdM3NfDQn",
        "outputId": "58f15950-6031-4bf8-a306-d4b3e8bfbbbb"
      },
      "source": [
        "A = tf.constant([[1,2,3],[4,5,6],[7,8,9]])\n",
        "B = tf.constant([[1],[2],[3]])\n",
        "tf.matmul(A,B)"
      ],
      "execution_count": 22,
      "outputs": [
        {
          "output_type": "execute_result",
          "data": {
            "text/plain": [
              "<tf.Tensor: shape=(3, 1), dtype=int32, numpy=\n",
              "array([[14],\n",
              "       [32],\n",
              "       [50]], dtype=int32)>"
            ]
          },
          "metadata": {
            "tags": []
          },
          "execution_count": 22
        }
      ]
    },
    {
      "cell_type": "code",
      "metadata": {
        "colab": {
          "base_uri": "https://localhost:8080/"
        },
        "id": "jfgSeN1Gf_s3",
        "outputId": "8b45912e-3a82-4c40-aee8-12f12698ae89"
      },
      "source": [
        "tf.multiply(A,B)"
      ],
      "execution_count": 23,
      "outputs": [
        {
          "output_type": "execute_result",
          "data": {
            "text/plain": [
              "<tf.Tensor: shape=(3, 3), dtype=int32, numpy=\n",
              "array([[ 1,  2,  3],\n",
              "       [ 8, 10, 12],\n",
              "       [21, 24, 27]], dtype=int32)>"
            ]
          },
          "metadata": {
            "tags": []
          },
          "execution_count": 23
        }
      ]
    }
  ]
}